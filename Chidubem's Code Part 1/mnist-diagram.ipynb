{
 "cells": [
  {
   "cell_type": "code",
   "execution_count": 1,
   "metadata": {
    "collapsed": true
   },
   "outputs": [],
   "source": [
    "%matplotlib inline\n",
    "import matplotlib.pyplot as plt\n",
    "import numpy as np\n",
    "from mnist_reader import load_data"
   ]
  },
  {
   "cell_type": "code",
   "execution_count": 2,
   "metadata": {
    "collapsed": true
   },
   "outputs": [],
   "source": [
    "images, labels = load_data('datasets/fashion-mnist')"
   ]
  },
  {
   "cell_type": "code",
   "execution_count": 3,
   "metadata": {
    "collapsed": true
   },
   "outputs": [],
   "source": [
    "# find dress and sneaker examples\n",
    "\n",
    "dresses = images[labels==3]\n",
    "\n",
    "sneakers = images[labels==7]"
   ]
  },
  {
   "cell_type": "code",
   "execution_count": 4,
   "metadata": {},
   "outputs": [
    {
     "data": {
      "image/png": "[encoded data removed]",
      "text/plain": [
       "<matplotlib.figure.Figure at 0x126f25a3550>"
      ]
     },
     "metadata": {},
     "output_type": "display_data"
    }
   ],
   "source": [
    "\n",
    "offset = 57\n",
    "\n",
    "plt.imshow(np.rot90(dresses[0, :].reshape((28, 28)), 2), cmap='gray')\n",
    "plt.imshow(sneakers[0, :].reshape((28, 28)), cmap='gray',\n",
    "          extent=[offset, offset+28, 0, 28])\n",
    "\n",
    "arrowprops = {'facecolor': 'C2', 'edgecolor': 'black', 'arrowstyle': 'simple'}\n",
    "\n",
    "plt.annotate('$q_1$', xy=(14, 21), xytext=(40, 28), \n",
    "             arrowprops=arrowprops, verticalalignment='center')\n",
    "plt.annotate('$q_2$', xy=(14, 14), xytext=(40, 14), \n",
    "             arrowprops=arrowprops, verticalalignment='center')\n",
    "plt.annotate('$q_3$', xy=(14, 7), xytext=(40, 0), \n",
    "             arrowprops=arrowprops, verticalalignment='center')\n",
    "\n",
    "plt.annotate('$q_1$', xy=(offset + 14, 21), xytext=(40, 28), \n",
    "             arrowprops=arrowprops, verticalalignment='center')\n",
    "plt.annotate('$q_2$', xy=(offset + 14, 14), xytext=(40, 14), \n",
    "             arrowprops=arrowprops, verticalalignment='center')\n",
    "plt.annotate('$q_3$', xy=(offset + 14, 7), xytext=(40, 0), \n",
    "             arrowprops=arrowprops, verticalalignment='center')\n",
    "\n",
    "plt.axis([0, 56 + offset, 0, 32])\n",
    "plt.axis('off')\n",
    "plt.axis('tight')\n",
    "plt.axis('equal')\n",
    "\n",
    "plt.savefig('mnistweak.pdf', bbox_inches = 'tight')\n"
   ]
  },
  {
   "cell_type": "code",
   "execution_count": null,
   "metadata": {
    "collapsed": true
   },
   "outputs": [],
   "source": []
  }
 ],
 "metadata": {
  "anaconda-cloud": {},
  "kernelspec": {
   "display_name": "Python 3",
   "language": "python",
   "name": "python3"
  },
  "language_info": {
   "codemirror_mode": {
    "name": "ipython",
    "version": 3
   },
   "file_extension": ".py",
   "mimetype": "text/x-python",
   "name": "python",
   "nbconvert_exporter": "python",
   "pygments_lexer": "ipython3",
   "version": "3.6.1"
  }
 },
 "nbformat": 4,
 "nbformat_minor": 2
}
