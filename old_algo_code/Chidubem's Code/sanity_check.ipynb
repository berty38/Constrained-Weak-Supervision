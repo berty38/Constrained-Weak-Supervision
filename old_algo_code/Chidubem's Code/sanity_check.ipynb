{
 "cells": [
  {
   "cell_type": "code",
   "execution_count": 19,
   "metadata": {
    "collapsed": true
   },
   "outputs": [],
   "source": [
    "%matplotlib inline\n",
    "import numpy as np\n",
    "import matplotlib.pyplot as plt"
   ]
  },
  {
   "cell_type": "code",
   "execution_count": 20,
   "metadata": {
    "collapsed": true
   },
   "outputs": [],
   "source": [
    "num_vars = 10\n",
    "num_constraints = 5\n",
    "x_min = -10\n",
    "x_max = 10\n",
    "\n",
    "max_iter = 5000\n",
    "tol = 1e-8\n",
    "\n",
    "A = np.random.randn(num_constraints, num_vars)\n",
    "b = np.random.randn(num_constraints)\n",
    "\n",
    "c = np.random.randn(num_vars)"
   ]
  },
  {
   "cell_type": "code",
   "execution_count": 21,
   "metadata": {},
   "outputs": [
    {
     "data": {
      "text/plain": [
       "<matplotlib.text.Text at 0x1efc7097ac8>"
      ]
     },
     "execution_count": 21,
     "metadata": {},
     "output_type": "execute_result"
    },
    {
     "data": {
      "image/png": "[encoded data removed]",
      "text/plain": [
       "<matplotlib.figure.Figure at 0x1efc6f39668>"
      ]
     },
     "metadata": {},
     "output_type": "display_data"
    }
   ],
   "source": [
    "x = np.random.randn(num_vars)\n",
    "lam = np.random.randn(num_constraints)\n",
    "\n",
    "obj = []\n",
    "feas = []\n",
    "lagrangian = []\n",
    "\n",
    "t = 1\n",
    "\n",
    "rho = 0.1\n",
    "\n",
    "AA_1 = np.linalg.inv(A.T.dot(A))\n",
    "\n",
    "while len(obj) < max_iter:    \n",
    "    rate = 1 / np.sqrt(t)\n",
    "#     rate = 0.0001\n",
    "        \n",
    "    # augmented lagrangian gradient\n",
    "    x_grad = c + lam.dot(A) + rho * A.T.dot(A).dot(x) - b.dot(A)\n",
    "\n",
    "    # lagrangian gradient\n",
    "#     x_grad = c + lam.dot(A)\n",
    "\n",
    "    x -= rate * x_grad\n",
    "    \n",
    "    x = x.clip(min=x_min, max=x_max)\n",
    "    \n",
    "    obj.append(c.dot(x))\n",
    "    lagrangian.append(c.dot(x) + lam.dot(A.dot(x) - b))\n",
    "    feas.append(np.linalg.norm(A.dot(x) - b))\n",
    "    \n",
    "    lam_grad = A.dot(x) - b \n",
    "    lam += rate * lam_grad\n",
    "\n",
    "    \n",
    "    t += 1\n",
    "\n",
    "plt.subplot(131)\n",
    "plt.plot(obj)\n",
    "plt.title('Objective')\n",
    "\n",
    "plt.subplot(132)\n",
    "plt.plot(lagrangian)\n",
    "plt.title('Lagrangian')\n",
    "\n",
    "plt.subplot(133)\n",
    "plt.semilogy(feas)\n",
    "plt.title('Infeasibility')\n",
    "\n"
   ]
  },
  {
   "cell_type": "code",
   "execution_count": null,
   "metadata": {
    "collapsed": true
   },
   "outputs": [],
   "source": []
  }
 ],
 "metadata": {
  "anaconda-cloud": {},
  "kernelspec": {
   "display_name": "Python 3",
   "language": "python",
   "name": "python3"
  },
  "language_info": {
   "codemirror_mode": {
    "name": "ipython",
    "version": 3
   },
   "file_extension": ".py",
   "mimetype": "text/x-python",
   "name": "python",
   "nbconvert_exporter": "python",
   "pygments_lexer": "ipython3",
   "version": "3.6.1"
  }
 },
 "nbformat": 4,
 "nbformat_minor": 1
}
